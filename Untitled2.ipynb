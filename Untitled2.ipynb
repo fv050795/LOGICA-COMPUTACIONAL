{
  "nbformat": 4,
  "nbformat_minor": 0,
  "metadata": {
    "colab": {
      "provenance": [],
      "authorship_tag": "ABX9TyMxwUVq/LUDGvfNYHQWZRT5",
      "include_colab_link": true
    },
    "kernelspec": {
      "name": "python3",
      "display_name": "Python 3"
    },
    "language_info": {
      "name": "python"
    }
  },
  "cells": [
    {
      "cell_type": "markdown",
      "metadata": {
        "id": "view-in-github",
        "colab_type": "text"
      },
      "source": [
        "<a href=\"https://colab.research.google.com/github/fv050795/lmc/blob/main/Untitled2.ipynb\" target=\"_parent\"><img src=\"https://colab.research.google.com/assets/colab-badge.svg\" alt=\"Open In Colab\"/></a>"
      ]
    },
    {
      "cell_type": "code",
      "execution_count": 2,
      "metadata": {
        "colab": {
          "base_uri": "https://localhost:8080/"
        },
        "id": "18AwU0OwLOFH",
        "outputId": "6889f351-7474-4369-effb-658687ca5064"
      },
      "outputs": [
        {
          "output_type": "stream",
          "name": "stdout",
          "text": [
            "--- Simulação de Lógica Booleana (Baseada na Unidade 1, Seção 2 do livro Lógica Computacional) ---\n",
            "\n",
            "Este script demonstra a aplicação da Álgebra Booleana e das operações lógicas.\n",
            "Ele simula o problema do circuito de votação, onde o projeto é aprovado se:\n",
            "   - O Diretor Executivo (A) votar a favor (Verdadeiro)\n",
            "   - E obtiver maioria (pelo menos um dos Vice-Diretores B ou C também votar a favor)\n",
            "\n",
            "Lógica da Aprovação do Projeto: A AND (B OR C)\n",
            "\n",
            "Valores: True (1) = Voto a favor | False (0) = Voto contra\n",
            "\n",
            "========================================\n",
            "A (Diretor)     | B (Vice-Dir. Fin.) | C (Vice-Dir. Inst.) | Projeto Aprovado?   \n",
            "------------------------------------------------------------------------------------------\n",
            "False           | False           | False           | False               \n",
            "False           | False           | True            | False               \n",
            "False           | True            | False           | False               \n",
            "False           | True            | True            | False               \n",
            "True            | False           | False           | False               \n",
            "True            | False           | True            | True                \n",
            "True            | True            | False           | True                \n",
            "True            | True            | True            | True                \n",
            "==========================================================================================\n",
            "\n",
            "--- Conectivos Lógicos Fundamentais em Python ---\n",
            "Python implementa diretamente os principais conectivos lógicos [12]:\n",
            "\n",
            "1. Negação (NOT): Inverte o valor lógico.\n",
            "NOT True  -> False\n",
            "NOT False -> True\n",
            "\n",
            "2. Conjunção (AND): Verdadeiro apenas se ambos forem True.\n",
            "True AND True   -> True\n",
            "True AND False  -> False\n",
            "False AND True  -> False\n",
            "False AND False -> False\n",
            "\n",
            "3. Disjunção (OR): Falso apenas se ambos forem False.\n",
            "True OR True   -> True\n",
            "True OR False  -> True\n",
            "False OR True  -> True\n",
            "False OR False -> False\n",
            "\n",
            "Isso demonstra como os princípios da Lógica Computacional são aplicados em programação.\n"
          ]
        }
      ],
      "source": [
        "\n",
        "# logica_computacional_unidade1_secao2.py\n",
        "\n",
        "print(\"--- Simulação de Lógica Booleana (Baseada na Unidade 1, Seção 2 do livro Lógica Computacional) ---\")\n",
        "print(\"\\nEste script demonstra a aplicação da Álgebra Booleana e das operações lógicas.\")\n",
        "print(\"Ele simula o problema do circuito de votação, onde o projeto é aprovado se:\")\n",
        "print(\"   - O Diretor Executivo (A) votar a favor (Verdadeiro)\")\n",
        "print(\"   - E obtiver maioria (pelo menos um dos Vice-Diretores B ou C também votar a favor)\")\n",
        "print(\"\\nLógica da Aprovação do Projeto: A AND (B OR C)\")\n",
        "print(\"\\nValores: True (1) = Voto a favor | False (0) = Voto contra\")\n",
        "\n",
        "# Cabeçalho da Tabela Verdade\n",
        "print(\"\\n\" + \"=\"*40)\n",
        "print(f\"{'A (Diretor)':<15} | {'B (Vice-Dir. Fin.)':<15} | {'C (Vice-Dir. Inst.)':<15} | {'Projeto Aprovado?':<20}\")\n",
        "print(\"-\" * 90)\n",
        "\n",
        "# Todas as combinações possíveis de votos (True/False ou 1/0)\n",
        "# Corresponde às 2^n combinações (2^3 = 8 combinações para 3 proposições)\n",
        "# Fonte: O conceito de 2^n combinações para a Tabela Verdade é discutido na Seção 1 da Unidade 4 [9].\n",
        "votos_a = [False, False, False, False, True, True, True, True]\n",
        "votos_b = [False, False, True, True, False, False, True, True]\n",
        "votos_c = [False, True, False, True, False, True, False, True]\n",
        "\n",
        "for i in range(8):\n",
        "    a = votos_a[i]\n",
        "    b = votos_b[i]\n",
        "    c = votos_c[i]\n",
        "\n",
        "    # Implementação da lógica do problema: A AND (B OR C)\n",
        "    # Fonte: A Álgebra Booleana e o uso de AND/OR/NOT são conceitos centrais do Período Booleano [1, 10, 11].\n",
        "    # As operações lógicas (conjunção, disjunção) são representadas por 'and' e 'or' em Python.\n",
        "    # O problema do circuito de votação é um exemplo de aplicação da lógica simbólica [2].\n",
        "    projeto_aprovado = a and (b or c)\n",
        "\n",
        "    # Exibição dos resultados em formato de tabela\n",
        "    print(f\"{str(a):<15} | {str(b):<15} | {str(c):<15} | {str(projeto_aprovado):<20}\")\n",
        "\n",
        "print(\"=\"*90)\n",
        "\n",
        "print(\"\\n--- Conectivos Lógicos Fundamentais em Python ---\")\n",
        "print(\"Python implementa diretamente os principais conectivos lógicos [12]:\")\n",
        "\n",
        "# Negação (NOT)\n",
        "# Fonte: A negação (¬ ou ~) inverte o valor-verdade de uma proposição [13-15].\n",
        "print(\"\\n1. Negação (NOT): Inverte o valor lógico.\")\n",
        "print(f\"NOT True  -> {not True}\")\n",
        "print(f\"NOT False -> {not False}\")\n",
        "\n",
        "# Conjunção (AND)\n",
        "# Fonte: A conjunção (Ù) é verdadeira apenas se TODAS as proposições forem verdadeiras [13, 16].\n",
        "print(\"\\n2. Conjunção (AND): Verdadeiro apenas se ambos forem True.\")\n",
        "print(f\"True AND True   -> {True and True}\")\n",
        "print(f\"True AND False  -> {True and False}\")\n",
        "print(f\"False AND True  -> {False and True}\")\n",
        "print(f\"False AND False -> {False and False}\")\n",
        "\n",
        "# Disjunção (OR)\n",
        "# Fonte: A disjunção (Ú) é falsa apenas se AMBAS as proposições forem falsas [13, 17].\n",
        "print(\"\\n3. Disjunção (OR): Falso apenas se ambos forem False.\")\n",
        "print(f\"True OR True   -> {True or True}\")\n",
        "print(f\"True OR False  -> {True or False}\")\n",
        "print(f\"False OR True  -> {False or True}\")\n",
        "print(f\"False OR False -> {False or False}\")\n",
        "\n",
        "print(\"\\nIsso demonstra como os princípios da Lógica Computacional são aplicados em programação.\")\n"
      ]
    }
  ]
}