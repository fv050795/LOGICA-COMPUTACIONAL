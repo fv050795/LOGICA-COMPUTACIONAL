{
  "nbformat": 4,
  "nbformat_minor": 0,
  "metadata": {
    "colab": {
      "provenance": [],
      "authorship_tag": "ABX9TyMgymtuwvjxyA/BvyFfFiom",
      "include_colab_link": true
    },
    "kernelspec": {
      "name": "python3",
      "display_name": "Python 3"
    },
    "language_info": {
      "name": "python"
    }
  },
  "cells": [
    {
      "cell_type": "markdown",
      "metadata": {
        "id": "view-in-github",
        "colab_type": "text"
      },
      "source": [
        "<a href=\"https://colab.research.google.com/github/fv050795/lmc/blob/main/Untitled1.ipynb\" target=\"_parent\"><img src=\"https://colab.research.google.com/assets/colab-badge.svg\" alt=\"Open In Colab\"/></a>"
      ]
    },
    {
      "cell_type": "code",
      "execution_count": null,
      "metadata": {
        "colab": {
          "base_uri": "https://localhost:8080/"
        },
        "id": "1UG6YyhrJwRE",
        "outputId": "ec70f4cd-96b1-4925-8c11-b60cc3ae5877"
      },
      "outputs": [
        {
          "output_type": "stream",
          "name": "stdout",
          "text": [
            "Proposição: 'O sol é uma estrela.' | Valor de Verdade: True\n",
            "Proposição: 'Cachorros voam.' | Valor de Verdade: False\n",
            "Proposição: '2 + 2 é igual a 4.' | Valor de Verdade: True\n",
            "Proposição: 'Paris é a capital da Alemanha.' | Valor de Verdade: False\n",
            "\n",
            "--- Verificando o tipo de dado ---\n",
            "Tipo de dado de proposicao1_valor: <class 'bool'>\n",
            "Tipo de dado de proposicao2_valor: <class 'bool'>\n"
          ]
        }
      ],
      "source": [
        "# Proposição 1: \"O sol é uma estrela.\"\n",
        "# Esta proposição é Verdadeira.\n",
        "proposicao1_valor = True\n",
        "proposicao1_texto = \"O sol é uma estrela.\"\n",
        "\n",
        "# Proposição 2: \"Cachorros voam.\"\n",
        "# Esta proposição é Falsa.\n",
        "proposicao2_valor = False\n",
        "proposicao2_texto = \"Cachorros voam.\"\n",
        "\n",
        "# Proposição 3: \"2 + 2 = 4.\"\n",
        "# Esta proposição é Verdadeira.\n",
        "proposicao3_valor = (2 + 2 == 4) # Python avalia a expressão e retorna True/False\n",
        "proposicao3_texto = \"2 + 2 é igual a 4.\"\n",
        "\n",
        "# Proposição 4: \"Paris é a capital da Alemanha.\"\n",
        "# Esta proposição é Falsa.\n",
        "proposicao4_valor = (\"Paris\" == \"capital da Alemanha\") # Python avalia a expressão e retorna True/False\n",
        "proposicao4_texto = \"Paris é a capital da Alemanha.\"\n",
        "\n",
        "# Exibindo cada proposição e seu valor de verdade\n",
        "print(f\"Proposição: '{proposicao1_texto}' | Valor de Verdade: {proposicao1_valor}\")\n",
        "print(f\"Proposição: '{proposicao2_texto}' | Valor de Verdade: {proposicao2_valor}\")\n",
        "print(f\"Proposição: '{proposicao3_texto}' | Valor de Verdade: {proposicao3_valor}\")\n",
        "print(f\"Proposição: '{proposicao4_texto}' | Valor de Verdade: {proposicao4_valor}\")\n",
        "\n",
        "print(\"\\n--- Verificando o tipo de dado ---\")\n",
        "print(f\"Tipo de dado de proposicao1_valor: {type(proposicao1_valor)}\")\n",
        "print(f\"Tipo de dado de proposicao2_valor: {type(proposicao2_valor)}\")"
      ]
    }
  ]
}